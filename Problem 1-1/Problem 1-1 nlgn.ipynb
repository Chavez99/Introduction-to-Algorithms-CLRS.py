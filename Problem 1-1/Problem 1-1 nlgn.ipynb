{
 "cells": [
  {
   "cell_type": "code",
   "execution_count": 34,
   "metadata": {},
   "outputs": [
    {
     "name": "stdout",
     "output_type": "stream",
     "text": [
      "6.874595e+13\n"
     ]
    }
   ],
   "source": [
    "from math import *\n",
    "N=1\n",
    "n=1\n",
    "\n",
    "t= 3.16*pow(10,15) \n",
    "while n * log(n, 2) < t:\n",
    "\n",
    "    N += 1 \n",
    "    def findFactSum(N):\n",
    "        f = 1\n",
    "        Sum = 0\n",
    "        for i in range(1, N + 1):\n",
    "            f = f * i\n",
    "            Sum += f\n",
    "        return Sum\n",
    "    n = findFactSum(N)\n",
    "\n",
    "while n * log(n, 2) > t:\n",
    "   \n",
    "    n -= 1\n",
    "    while n * log(n, 2) > t:\n",
    "        s=7\n",
    "        n-=pow(10,s)\n",
    "        #s+=1\n",
    "#Scientific Notation\n",
    "print(\"{:e}\".format(n))"
   ]
  },
  {
   "cell_type": "code",
   "execution_count": 35,
   "metadata": {},
   "outputs": [
    {
     "name": "stdout",
     "output_type": "stream",
     "text": [
      "7.967553e+11\n"
     ]
    }
   ],
   "source": [
    "from math import *\n",
    "N=1\n",
    "n=1\n",
    "\n",
    "t= 3.15*pow(10,13) \n",
    "\n",
    "while n * log(n, 2) < t:\n",
    "\n",
    "    N += 1 \n",
    "    def findFactSum(N):\n",
    "        f = 1\n",
    "        Sum = 0\n",
    "        for i in range(1, N + 1):\n",
    "            f = f * i\n",
    "            Sum += f\n",
    "        return Sum\n",
    "    n = findFactSum(N)\n",
    "\n",
    "while n * log(n, 2) > t:\n",
    "   \n",
    "    n -= 1\n",
    "    while n * log(n, 2) > t:\n",
    "        s=5\n",
    "        n-=pow(10,s)\n",
    "        #s+=1\n",
    "#Scientific Notation\n",
    "print(\"{:e}\".format(n))"
   ]
  },
  {
   "cell_type": "code",
   "execution_count": 39,
   "metadata": {},
   "outputs": [
    {
     "name": "stdout",
     "output_type": "stream",
     "text": [
      "7.181753e+10\n"
     ]
    }
   ],
   "source": [
    "from math import *\n",
    "N=1\n",
    "n=1\n",
    "\n",
    "t= 2.59*pow(10,12) \n",
    "\n",
    "while n * log(n, 2) < t:\n",
    "\n",
    "    N += 1 \n",
    "    def findFactSum(N):\n",
    "        f = 1\n",
    "        Sum = 0\n",
    "        for i in range(1, N + 1):\n",
    "            f = f * i\n",
    "            Sum += f\n",
    "        return Sum\n",
    "    n = findFactSum(N)\n",
    "\n",
    "while n * log(n, 2) > t:\n",
    "   \n",
    "    n -= 1\n",
    "    while n * log(n, 2) > t:\n",
    "        s=4\n",
    "        n-=pow(10,s)\n",
    "        #s+=1\n",
    "#Scientific Notation\n",
    "print(\"{:e}\".format(n))"
   ]
  },
  {
   "cell_type": "code",
   "execution_count": 40,
   "metadata": {},
   "outputs": [
    {
     "name": "stdout",
     "output_type": "stream",
     "text": [
      "2.755147e+09\n"
     ]
    }
   ],
   "source": [
    "from math import *\n",
    "N=1\n",
    "n=1\n",
    "\n",
    "t= 8.64*pow(10,10) \n",
    "\n",
    "while n * log(n, 2) < t:\n",
    "\n",
    "    N += 1 \n",
    "    def findFactSum(N):\n",
    "        f = 1\n",
    "        Sum = 0\n",
    "        for i in range(1, N + 1):\n",
    "            f = f * i\n",
    "            Sum += f\n",
    "        return Sum\n",
    "    n = findFactSum(N)\n",
    "\n",
    "while n * log(n, 2) > t:\n",
    "   \n",
    "    n -= 1\n",
    "    while n * log(n, 2) > t:\n",
    "        s=3\n",
    "        n-=pow(10,s)\n",
    "        #s+=1\n",
    "#Scientific Notation\n",
    "print(\"{:e}\".format(n))"
   ]
  },
  {
   "cell_type": "code",
   "execution_count": 41,
   "metadata": {},
   "outputs": [
    {
     "name": "stdout",
     "output_type": "stream",
     "text": [
      "1.333780e+08\n"
     ]
    }
   ],
   "source": [
    "from math import *\n",
    "N=1\n",
    "n=1\n",
    "\n",
    "t= 3.6*pow(10,9) \n",
    "\n",
    "while n * log(n, 2) < t:\n",
    "\n",
    "    N += 1 \n",
    "    def findFactSum(N):\n",
    "        f = 1\n",
    "        Sum = 0\n",
    "        for i in range(1, N + 1):\n",
    "            f = f * i\n",
    "            Sum += f\n",
    "        return Sum\n",
    "    n = findFactSum(N)\n",
    "\n",
    "while n * log(n, 2) > t:\n",
    "   \n",
    "    n -= 1\n",
    "    while n * log(n, 2) > t:\n",
    "        s=2\n",
    "        n-=pow(10,s)\n",
    "        #s+=1\n",
    "#Scientific Notation\n",
    "print(\"{:e}\".format(n))"
   ]
  },
  {
   "cell_type": "code",
   "execution_count": 42,
   "metadata": {},
   "outputs": [
    {
     "name": "stdout",
     "output_type": "stream",
     "text": [
      "2.801412e+06\n"
     ]
    }
   ],
   "source": [
    "from math import *\n",
    "N=1\n",
    "n=1\n",
    "\n",
    "t= 6*pow(10,7) \n",
    "\n",
    "while n * log(n, 2) < t:\n",
    "\n",
    "    N += 1 \n",
    "    def findFactSum(N):\n",
    "        f = 1\n",
    "        Sum = 0\n",
    "        for i in range(1, N + 1):\n",
    "            f = f * i\n",
    "            Sum += f\n",
    "        return Sum\n",
    "    n = findFactSum(N)\n",
    "\n",
    "while n * log(n, 2) > t:\n",
    "   \n",
    "    n -= 1\n",
    "    while n * log(n, 2) > t:\n",
    "        s=1\n",
    "        n-=pow(10,s)\n",
    "        #s+=1\n",
    "#Scientific Notation\n",
    "print(\"{:e}\".format(n))"
   ]
  },
  {
   "cell_type": "code",
   "execution_count": 43,
   "metadata": {},
   "outputs": [
    {
     "name": "stdout",
     "output_type": "stream",
     "text": [
      "6.274600e+04\n"
     ]
    }
   ],
   "source": [
    "from math import *\n",
    "N=1\n",
    "n=1\n",
    "t= 1*pow(10,6)  \n",
    "\n",
    "while n * log(n, 2) < t:\n",
    "\n",
    "    N += 1 \n",
    "    def findFactSum(N):\n",
    "        f = 1\n",
    "        Sum = 0\n",
    "        for i in range(1, N + 1):\n",
    "            f = f * i\n",
    "            Sum += f\n",
    "        return Sum\n",
    "    n = findFactSum(N)\n",
    "\n",
    "while n * log(n, 2) > t:\n",
    "   \n",
    "    n -= 1\n",
    "        #s+=1\n",
    "#Scientific Notation\n",
    "print(\"{:e}\".format(n))"
   ]
  },
  {
   "cell_type": "code",
   "execution_count": null,
   "metadata": {},
   "outputs": [],
   "source": []
  }
 ],
 "metadata": {
  "kernelspec": {
   "display_name": "Python 3",
   "language": "python",
   "name": "python3"
  },
  "language_info": {
   "codemirror_mode": {
    "name": "ipython",
    "version": 3
   },
   "file_extension": ".py",
   "mimetype": "text/x-python",
   "name": "python",
   "nbconvert_exporter": "python",
   "pygments_lexer": "ipython3",
   "version": "3.10.9 (tags/v3.10.9:1dd9be6, Dec  6 2022, 20:01:21) [MSC v.1934 64 bit (AMD64)]"
  },
  "orig_nbformat": 4,
  "vscode": {
   "interpreter": {
    "hash": "c18c0b266cd426480e5a0b75e8adf62f9dfbf178aa544d4dff2c28d344957dd3"
   }
  }
 },
 "nbformat": 4,
 "nbformat_minor": 2
}
