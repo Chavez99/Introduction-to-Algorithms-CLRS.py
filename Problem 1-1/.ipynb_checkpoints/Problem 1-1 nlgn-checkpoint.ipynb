{
 "cells": [
  {
   "cell_type": "code",
   "execution_count": 6,
   "metadata": {},
   "outputs": [
    {
     "name": "stdout",
     "output_type": "stream",
     "text": [
      "9\n"
     ]
    }
   ],
   "source": [
    "# python program to compute sum of series\n",
    "# 1! + 2! + 3! + ... + N!\n",
    " \n",
    "# Function to return sum\n",
    "# of 1!, 2! upto N!\n",
    "from math import *\n",
    "N=1\n",
    "n=1\n",
    "while n * log(n, 2) < 1000000:\n",
    "    N += 1 \n",
    "\n",
    "    # for n lg n\n",
    "    def findFactSum(N):\n",
    "    \n",
    "        # Initializing the variables\n",
    "        f = 1\n",
    "        Sum = 0\n",
    "    \n",
    "        # Calculate the factorial and sum\n",
    "        # in the same loop\n",
    "        for i in range(1, N + 1):\n",
    "            f = f * i\n",
    "            Sum += f\n",
    "    \n",
    "        # Return Sum as the final result.\n",
    "        return Sum\n",
    "    \n",
    "    # Driver Code\n",
    "    #if __name__ == \"__main__\":\n",
    "\n",
    "    \n",
    "        # Function call\n",
    "    n = findFactSum(N)\n",
    "\n",
    "        # This code is contributed by rakeshsahni"
   ]
  },
  {
   "cell_type": "code",
   "execution_count": 7,
   "metadata": {},
   "outputs": [
    {
     "name": "stdout",
     "output_type": "stream",
     "text": [
      "Minimum value of n (n lg n) : 62746\n"
     ]
    }
   ],
   "source": [
    "from math import *\n",
    "\n",
    "# for n lg n\n",
    "n = 1\n",
    "while n * log(n, 2) < 1000000:\n",
    "    n += 1\n",
    "\n",
    "print(\"Minimum value of n (n lg n) :\", n - 1)\n"
   ]
  },
  {
   "cell_type": "code",
   "execution_count": 27,
   "metadata": {},
   "outputs": [
    {
     "name": "stdout",
     "output_type": "stream",
     "text": [
      "9.732000e-06\n"
     ]
    }
   ],
   "source": [
    "scientific_notation=\"{:e}\".format(0.000009732)\n",
    "print(scientific_notation)"
   ]
  },
  {
   "cell_type": "code",
   "execution_count": 34,
   "metadata": {},
   "outputs": [
    {
     "name": "stdout",
     "output_type": "stream",
     "text": [
      "6.874595e+13\n"
     ]
    }
   ],
   "source": [
    "from math import *\n",
    "N=1\n",
    "n=1\n",
    "\n",
    "t= 3.16*pow(10,15) \n",
    "while n * log(n, 2) < t:\n",
    "\n",
    "    N += 1 \n",
    "    def findFactSum(N):\n",
    "        f = 1\n",
    "        Sum = 0\n",
    "        for i in range(1, N + 1):\n",
    "            f = f * i\n",
    "            Sum += f\n",
    "        return Sum\n",
    "    n = findFactSum(N)\n",
    "\n",
    "while n * log(n, 2) > t:\n",
    "   \n",
    "    n -= 1\n",
    "    while n * log(n, 2) > t:\n",
    "        s=7\n",
    "        n-=pow(10,s)\n",
    "        #s+=1\n",
    "#Scientific Notation\n",
    "print(\"{:e}\".format(n))"
   ]
  },
  {
   "cell_type": "code",
   "execution_count": 35,
   "metadata": {},
   "outputs": [
    {
     "name": "stdout",
     "output_type": "stream",
     "text": [
      "7.967553e+11\n"
     ]
    }
   ],
   "source": [
    "from math import *\n",
    "N=1\n",
    "n=1\n",
    "\n",
    "t= 3.15*pow(10,13) \n",
    "\n",
    "while n * log(n, 2) < t:\n",
    "\n",
    "    N += 1 \n",
    "    def findFactSum(N):\n",
    "        f = 1\n",
    "        Sum = 0\n",
    "        for i in range(1, N + 1):\n",
    "            f = f * i\n",
    "            Sum += f\n",
    "        return Sum\n",
    "    n = findFactSum(N)\n",
    "\n",
    "while n * log(n, 2) > t:\n",
    "   \n",
    "    n -= 1\n",
    "    while n * log(n, 2) > t:\n",
    "        s=5\n",
    "        n-=pow(10,s)\n",
    "        #s+=1\n",
    "#Scientific Notation\n",
    "print(\"{:e}\".format(n))"
   ]
  },
  {
   "cell_type": "code",
   "execution_count": 39,
   "metadata": {},
   "outputs": [
    {
     "name": "stdout",
     "output_type": "stream",
     "text": [
      "7.181753e+10\n"
     ]
    }
   ],
   "source": [
    "from math import *\n",
    "N=1\n",
    "n=1\n",
    "\n",
    "t= 2.59*pow(10,12) \n",
    "\n",
    "while n * log(n, 2) < t:\n",
    "\n",
    "    N += 1 \n",
    "    def findFactSum(N):\n",
    "        f = 1\n",
    "        Sum = 0\n",
    "        for i in range(1, N + 1):\n",
    "            f = f * i\n",
    "            Sum += f\n",
    "        return Sum\n",
    "    n = findFactSum(N)\n",
    "\n",
    "while n * log(n, 2) > t:\n",
    "   \n",
    "    n -= 1\n",
    "    while n * log(n, 2) > t:\n",
    "        s=4\n",
    "        n-=pow(10,s)\n",
    "        #s+=1\n",
    "#Scientific Notation\n",
    "print(\"{:e}\".format(n))"
   ]
  },
  {
   "cell_type": "code",
   "execution_count": 40,
   "metadata": {},
   "outputs": [
    {
     "name": "stdout",
     "output_type": "stream",
     "text": [
      "2.755147e+09\n"
     ]
    }
   ],
   "source": [
    "from math import *\n",
    "N=1\n",
    "n=1\n",
    "\n",
    "t= 8.64*pow(10,10) \n",
    "\n",
    "while n * log(n, 2) < t:\n",
    "\n",
    "    N += 1 \n",
    "    def findFactSum(N):\n",
    "        f = 1\n",
    "        Sum = 0\n",
    "        for i in range(1, N + 1):\n",
    "            f = f * i\n",
    "            Sum += f\n",
    "        return Sum\n",
    "    n = findFactSum(N)\n",
    "\n",
    "while n * log(n, 2) > t:\n",
    "   \n",
    "    n -= 1\n",
    "    while n * log(n, 2) > t:\n",
    "        s=3\n",
    "        n-=pow(10,s)\n",
    "        #s+=1\n",
    "#Scientific Notation\n",
    "print(\"{:e}\".format(n))"
   ]
  },
  {
   "cell_type": "code",
   "execution_count": 41,
   "metadata": {},
   "outputs": [
    {
     "name": "stdout",
     "output_type": "stream",
     "text": [
      "1.333780e+08\n"
     ]
    }
   ],
   "source": [
    "from math import *\n",
    "N=1\n",
    "n=1\n",
    "\n",
    "t= 3.6*pow(10,9) \n",
    "\n",
    "while n * log(n, 2) < t:\n",
    "\n",
    "    N += 1 \n",
    "    def findFactSum(N):\n",
    "        f = 1\n",
    "        Sum = 0\n",
    "        for i in range(1, N + 1):\n",
    "            f = f * i\n",
    "            Sum += f\n",
    "        return Sum\n",
    "    n = findFactSum(N)\n",
    "\n",
    "while n * log(n, 2) > t:\n",
    "   \n",
    "    n -= 1\n",
    "    while n * log(n, 2) > t:\n",
    "        s=2\n",
    "        n-=pow(10,s)\n",
    "        #s+=1\n",
    "#Scientific Notation\n",
    "print(\"{:e}\".format(n))"
   ]
  },
  {
   "cell_type": "code",
   "execution_count": 42,
   "metadata": {},
   "outputs": [
    {
     "name": "stdout",
     "output_type": "stream",
     "text": [
      "2.801412e+06\n"
     ]
    }
   ],
   "source": [
    "from math import *\n",
    "N=1\n",
    "n=1\n",
    "\n",
    "t= 6*pow(10,7) \n",
    "\n",
    "while n * log(n, 2) < t:\n",
    "\n",
    "    N += 1 \n",
    "    def findFactSum(N):\n",
    "        f = 1\n",
    "        Sum = 0\n",
    "        for i in range(1, N + 1):\n",
    "            f = f * i\n",
    "            Sum += f\n",
    "        return Sum\n",
    "    n = findFactSum(N)\n",
    "\n",
    "while n * log(n, 2) > t:\n",
    "   \n",
    "    n -= 1\n",
    "    while n * log(n, 2) > t:\n",
    "        s=1\n",
    "        n-=pow(10,s)\n",
    "        #s+=1\n",
    "#Scientific Notation\n",
    "print(\"{:e}\".format(n))"
   ]
  },
  {
   "cell_type": "code",
   "execution_count": 43,
   "metadata": {},
   "outputs": [
    {
     "name": "stdout",
     "output_type": "stream",
     "text": [
      "6.274600e+04\n"
     ]
    }
   ],
   "source": [
    "from math import *\n",
    "N=1\n",
    "n=1\n",
    "t= 1*pow(10,6)  \n",
    "\n",
    "while n * log(n, 2) < t:\n",
    "\n",
    "    N += 1 \n",
    "    def findFactSum(N):\n",
    "        f = 1\n",
    "        Sum = 0\n",
    "        for i in range(1, N + 1):\n",
    "            f = f * i\n",
    "            Sum += f\n",
    "        return Sum\n",
    "    n = findFactSum(N)\n",
    "\n",
    "while n * log(n, 2) > t:\n",
    "   \n",
    "    n -= 1\n",
    "        #s+=1\n",
    "#Scientific Notation\n",
    "print(\"{:e}\".format(n))"
   ]
  },
  {
   "cell_type": "code",
   "execution_count": null,
   "metadata": {},
   "outputs": [],
   "source": []
  }
 ],
 "metadata": {
  "kernelspec": {
   "display_name": "Python 3 (ipykernel)",
   "language": "python",
   "name": "python3"
  },
  "language_info": {
   "codemirror_mode": {
    "name": "ipython",
    "version": 3
   },
   "file_extension": ".py",
   "mimetype": "text/x-python",
   "name": "python",
   "nbconvert_exporter": "python",
   "pygments_lexer": "ipython3",
   "version": "3.9.13"
  },
  "vscode": {
   "interpreter": {
    "hash": "c18c0b266cd426480e5a0b75e8adf62f9dfbf178aa544d4dff2c28d344957dd3"
   }
  }
 },
 "nbformat": 4,
 "nbformat_minor": 2
}
