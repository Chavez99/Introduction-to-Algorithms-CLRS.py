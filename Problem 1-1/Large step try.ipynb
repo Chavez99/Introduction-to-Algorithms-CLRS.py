{
 "cells": [
  {
   "cell_type": "code",
   "execution_count": 2,
   "metadata": {},
   "outputs": [
    {
     "name": "stdout",
     "output_type": "stream",
     "text": [
      "Address of self =  1763977427312\n",
      "Address of class object =  1763977427312\n"
     ]
    }
   ],
   "source": [
    "class check:\n",
    "    def __init__(self):\n",
    "        print(\"Address of self = \",id(self))\n",
    "  \n",
    "obj = check()\n",
    "print(\"Address of class object = \",id(obj))\n"
   ]
  },
  {
   "cell_type": "code",
   "execution_count": 3,
   "metadata": {},
   "outputs": [
    {
     "name": "stdout",
     "output_type": "stream",
     "text": [
      "Chanchito\n"
     ]
    }
   ],
   "source": [
    "print('Chanchito')"
   ]
  },
  {
   "cell_type": "code",
   "execution_count": 4,
   "metadata": {},
   "outputs": [],
   "source": [
    "'''\n",
    "Generic Function for BFS traversal of a Graph\n",
    "(valid for directed as well as undirected graphs\n",
    "which can have multiple disconnected components)\n",
    "-- Inputs --\n",
    "-> V - represents number of vertices in the Graph\n",
    "-> adj[] - represents adjacency list for the Graph\n",
    "-- Output --\n",
    "-> bfs_traversal - a vector containing bfs traversal\n",
    "for entire graph\n",
    "'''\n",
    "\n",
    "\n",
    "def bfsOfGraph(V, adj):\n",
    "\n",
    "\tbfs_traversal = []\n",
    "\tvis = [False]*V\n",
    "\tfor i in range(V):\n",
    "\n",
    "\t\t# To check if already visited\n",
    "\t\tif (vis[i] == False):\n",
    "\t\t\tq = []\n",
    "\t\t\tvis[i] = True\n",
    "\t\t\tq.append(i)\n",
    "\n",
    "\t\t\t# BFS starting from ith node\n",
    "\t\t\twhile (len(q) > 0):\n",
    "\t\t\t\tg_node = q.pop(0)\n",
    "\n",
    "\t\t\t\tbfs_traversal.append(g_node)\n",
    "\t\t\t\tfor it in adj[g_node]:\n",
    "\t\t\t\t\tif (vis[it] == False):\n",
    "\t\t\t\t\t\tvis[it] = True\n",
    "\t\t\t\t\t\tq.append(it)\n",
    "\n",
    "\treturn bfs_traversal\n",
    "\n",
    "# This code is contributed by Abhijeet Kumar(abhijeet19403)\n"
   ]
  },
  {
   "cell_type": "code",
   "execution_count": 5,
   "metadata": {},
   "outputs": [
    {
     "ename": "NameError",
     "evalue": "name 'bfs_traversal' is not defined",
     "output_type": "error",
     "traceback": [
      "\u001b[1;31m---------------------------------------------------------------------------\u001b[0m",
      "\u001b[1;31mNameError\u001b[0m                                 Traceback (most recent call last)",
      "Cell \u001b[1;32mIn[5], line 1\u001b[0m\n\u001b[1;32m----> 1\u001b[0m \u001b[39mprint\u001b[39m(bfs_traversal)\n",
      "\u001b[1;31mNameError\u001b[0m: name 'bfs_traversal' is not defined"
     ]
    }
   ],
   "source": [
    "print(bfs_traversal)"
   ]
  },
  {
   "cell_type": "code",
   "execution_count": 8,
   "metadata": {},
   "outputs": [
    {
     "ename": "NameError",
     "evalue": "name 'bfs_traversal' is not defined",
     "output_type": "error",
     "traceback": [
      "\u001b[1;31m---------------------------------------------------------------------------\u001b[0m",
      "\u001b[1;31mNameError\u001b[0m                                 Traceback (most recent call last)",
      "Cell \u001b[1;32mIn[8], line 1\u001b[0m\n\u001b[1;32m----> 1\u001b[0m \u001b[39mfor\u001b[39;00m x \u001b[39min\u001b[39;00m \u001b[39mrange\u001b[39m(\u001b[39mlen\u001b[39m(bfs_traversal)):\n\u001b[0;32m      2\u001b[0m     \u001b[39mprint\u001b[39m (bfs_traversal[x])\n",
      "\u001b[1;31mNameError\u001b[0m: name 'bfs_traversal' is not defined"
     ]
    }
   ],
   "source": [
    "for x in range(len(bfs_traversal)):\n",
    "    print (bfs_traversal[x])"
   ]
  },
  {
   "cell_type": "code",
   "execution_count": 10,
   "metadata": {},
   "outputs": [
    {
     "ename": "SyntaxError",
     "evalue": "Missing parentheses in call to 'print'. Did you mean print(...)? (2666411954.py, line 7)",
     "output_type": "error",
     "traceback": [
      "\u001b[1;36m  Cell \u001b[1;32mIn[10], line 7\u001b[1;36m\u001b[0m\n\u001b[1;33m    print a(x),\u001b[0m\n\u001b[1;37m    ^\u001b[0m\n\u001b[1;31mSyntaxError\u001b[0m\u001b[1;31m:\u001b[0m Missing parentheses in call to 'print'. Did you mean print(...)?\n"
     ]
    }
   ],
   "source": [
    "# Python program to print list\n",
    "# using for loop\n",
    "a = [1, 2, 3, 4, 5]\n",
    "\n",
    "# printing the list using loop\n",
    "for x in range(len(a)):\n",
    "\tprint a(x),\n"
   ]
  },
  {
   "cell_type": "code",
   "execution_count": 1,
   "metadata": {},
   "outputs": [
    {
     "name": "stdout",
     "output_type": "stream",
     "text": [
      "Minimum value of n (n lg n) : 62746\n",
      "Minimum value of n (n!)     : 9\n"
     ]
    }
   ],
   "source": [
    "from math import *\n",
    "\n",
    "# for n lg n\n",
    "n = 1\n",
    "while n * log(n, 2) < 1000000:\n",
    "    n += 1\n",
    "\n",
    "print(\"Minimum value of n (n lg n) :\", n - 1)\n",
    "\n",
    "# for n!\n",
    "n = 1\n",
    "while factorial(n) < 1000000:\n",
    "    n += 1\n",
    "\n",
    "print(\"Minimum value of n (n!)     :\", n - 1)"
   ]
  },
  {
   "cell_type": "code",
   "execution_count": 5,
   "metadata": {},
   "outputs": [
    {
     "name": "stdout",
     "output_type": "stream",
     "text": [
      "Largest size of n when (n lg n) in a uSecond : 62746\n"
     ]
    }
   ],
   "source": [
    "from math import *\n",
    "\n",
    "# for 4-1. nlgn\n",
    "n = 1\n",
    "while n * log(n, 2) < 1000000:\n",
    "    n += 1\n",
    "\n",
    "print(\"Largest size of n when (n lg n) in a uSecond :\", n - 1)\n",
    "\n"
   ]
  },
  {
   "cell_type": "code",
   "execution_count": 8,
   "metadata": {},
   "outputs": [
    {
     "name": "stdout",
     "output_type": "stream",
     "text": [
      "Largest size of n when (n!) in a uSecond : 9\n"
     ]
    }
   ],
   "source": [
    "# for 8-1. n!\n",
    "n = 1\n",
    "while factorial(n) < 1000000:\n",
    "    n += 1\n",
    "\n",
    "print(\"Largest size of n when (n!) in a uSecond :\", n - 1)"
   ]
  },
  {
   "cell_type": "code",
   "execution_count": 9,
   "metadata": {},
   "outputs": [
    {
     "name": "stdout",
     "output_type": "stream",
     "text": [
      "Largest size of n when (n lg n) in a uSecond : 2801417\n"
     ]
    }
   ],
   "source": [
    "from math import *\n",
    "\n",
    "# for 4-2. nlgn\n",
    "n = 1\n",
    "while n * log(n, 2) < 60000000:\n",
    "    n += 1\n",
    "\n",
    "print(\"Largest size of n when (n lg n) in a uSecond :\", n - 1)"
   ]
  },
  {
   "cell_type": "code",
   "execution_count": 10,
   "metadata": {},
   "outputs": [
    {
     "name": "stdout",
     "output_type": "stream",
     "text": [
      "Largest size of n when (n lg n) in a uSecond : 2801417\n"
     ]
    }
   ],
   "source": [
    "from math import *\n",
    "\n",
    "# for 4-2. nlgn\n",
    "n = 1\n",
    "while n * log(n, 2) < 60000000:\n",
    "    n += 1\n",
    "\n",
    "print(\"Largest size of n when (n lg n) in a uSecond :\", n - 1)"
   ]
  },
  {
   "cell_type": "code",
   "execution_count": 13,
   "metadata": {},
   "outputs": [
    {
     "name": "stdout",
     "output_type": "stream",
     "text": [
      "Largest size of n when (n!) in a uSecond : 11\n"
     ]
    }
   ],
   "source": [
    "# for 8-2. n!\n",
    "n = 1\n",
    "while factorial(n) < 60000000:\n",
    "    n += 1\n",
    "\n",
    "print(\"Largest size of n when (n!) in a uSecond :\", n - 1)"
   ]
  },
  {
   "cell_type": "code",
   "execution_count": 16,
   "metadata": {},
   "outputs": [
    {
     "name": "stdout",
     "output_type": "stream",
     "text": [
      "Largest size of n when (n!) in a uSecond : 12\n"
     ]
    }
   ],
   "source": [
    "# for 8-3. n!\n",
    "n = 1\n",
    "while factorial(n) < 3600000000:\n",
    "    n += 1\n",
    "\n",
    "print(\"Largest size of n when (n!) in a uSecond :\", n - 1)"
   ]
  },
  {
   "cell_type": "code",
   "execution_count": 17,
   "metadata": {},
   "outputs": [
    {
     "name": "stdout",
     "output_type": "stream",
     "text": [
      "Largest size of n when (n!) in a uSecond : 13\n"
     ]
    }
   ],
   "source": [
    "# for 8-4. n!\n",
    "n = 1\n",
    "while factorial(n) < 86400000000:\n",
    "    n += 1\n",
    "\n",
    "print(\"Largest size of n when (n!) in a uSecond :\", n - 1)"
   ]
  },
  {
   "cell_type": "code",
   "execution_count": 19,
   "metadata": {},
   "outputs": [
    {
     "name": "stdout",
     "output_type": "stream",
     "text": [
      "Largest size of n when (n!) in a uSecond : 15\n"
     ]
    }
   ],
   "source": [
    "# for 8-5. n!\n",
    "n = 1\n",
    "while factorial(n) < 2560000000000:\n",
    "    n += 1\n",
    "\n",
    "print(\"Largest size of n when (n!) in a uSecond :\", n - 1)"
   ]
  },
  {
   "cell_type": "code",
   "execution_count": 22,
   "metadata": {},
   "outputs": [
    {
     "name": "stdout",
     "output_type": "stream",
     "text": [
      "Largest size of n when (n!) in a uSecond : 16\n"
     ]
    }
   ],
   "source": [
    "# for 8-6. n!\n",
    "n = 1\n",
    "while factorial(n) < 31500000000000:\n",
    "    n += 1\n",
    "\n",
    "print(\"Largest size of n when (n!) in a uSecond :\", n - 1)"
   ]
  },
  {
   "cell_type": "code",
   "execution_count": 21,
   "metadata": {},
   "outputs": [
    {
     "name": "stdout",
     "output_type": "stream",
     "text": [
      "Largest size of n when (n!) in a uSecond : 17\n"
     ]
    }
   ],
   "source": [
    "# for 8-7. n!\n",
    "n = 1\n",
    "while factorial(n) < 3160000000000000:\n",
    "    n += 1\n",
    "\n",
    "print(\"Largest size of n when (n!) in a uSecond :\", n - 1)"
   ]
  },
  {
   "cell_type": "code",
   "execution_count": 25,
   "metadata": {},
   "outputs": [
    {
     "name": "stdout",
     "output_type": "stream",
     "text": [
      "Largest size of n when (n lg n) in a uSecond : 7740\n"
     ]
    }
   ],
   "source": [
    "from math import *\n",
    "\n",
    "# for 4-2. nlgn\n",
    "n = 1\n",
    "while n*log(n, 2) < 100000:\n",
    "    n += 1\n",
    "    if n\n",
    "\n",
    "print(\"Largest size of n when (n lg n) in a uSecond :\", n - 1)"
   ]
  },
  {
   "cell_type": "code",
   "execution_count": 26,
   "metadata": {},
   "outputs": [
    {
     "name": "stdout",
     "output_type": "stream",
     "text": [
      "2^(1.00e+06) 2^(6.00e+07) 2^(3.60e+09) 2^(8.64e+10) 2^(2.59e+12) 2^(3.15e+13) 2^(3.15e+15)\n",
      "1.00e+12 3.60e+15 1.30e+19 7.46e+21 6.72e+24 9.95e+26 9.95e+30\n",
      "1.00e+06 6.00e+07 3.60e+09 8.64e+10 2.59e+12 3.15e+13 3.15e+15\n",
      "6.27e+04 2.80e+06 1.33e+08 2.76e+09 7.19e+10 7.98e+11 6.86e+13\n",
      "1000 7745 60000 293938 1609968 5615692 56156922\n",
      "100 391 1532 4420 13736 31593 146645\n",
      "19 25 31 36 41 44 51\n",
      "9 11 12 13 15 16 17\n"
     ]
    }
   ],
   "source": [
    "import math\n",
    "\n",
    "def log2(n):\n",
    "    return math.log(n) / math.log(2)\n",
    "\n",
    "complexities = [lambda n: math.sqrt(n),\n",
    "                lambda n: n,\n",
    "                lambda n: n * log2(n),\n",
    "                lambda n: n ** 2,\n",
    "                lambda n: n ** 3,\n",
    "                lambda n: 2 ** n,\n",
    "                lambda n: math.factorial(n)]\n",
    "\n",
    "max_bound = [1e40, 1e20, 1e20, 1e10, 1e10, 100, 100]\n",
    "\n",
    "times = [1000 * 1000,\n",
    "         1000 * 1000 * 60,\n",
    "         1000 * 1000 * 60 * 60,\n",
    "         1000 * 1000 * 60 * 60 * 24,\n",
    "         1000 * 1000 * 60 * 60 * 24 * 30,\n",
    "         1000 * 1000 * 60 * 60 * 24 * 365,\n",
    "         1000 * 1000 * 60 * 60 * 24 * 365 * 100]\n",
    "\n",
    "print(' '.join(map(lambda v: '2^(' + '{:.2e}'.format(v) + ')', times)))\n",
    "\n",
    "for k in range(len(complexities)):\n",
    "    c = complexities[k]\n",
    "    vals = []\n",
    "    for t in times:\n",
    "        l, r = 0, int(max_bound[k])\n",
    "        max_n = 0\n",
    "        while l <= r:\n",
    "            mid = (l + r) // 2\n",
    "            val = c(mid)\n",
    "            if val == float('inf') or val > t:\n",
    "                r = mid - 1\n",
    "            else:\n",
    "                l = mid + 1\n",
    "                max_n = max(max_n, mid)\n",
    "        vals.append(max_n)\n",
    "    if k < 3:\n",
    "        print(' '.join(map(lambda v: '{:.2e}'.format(v), vals)))\n",
    "    else:\n",
    "        print(' '.join(map(lambda v: str(int(math.floor(v))), vals)))"
   ]
  },
  {
   "cell_type": "code",
   "execution_count": 27,
   "metadata": {},
   "outputs": [
    {
     "name": "stdout",
     "output_type": "stream",
     "text": [
      "6.910750787961936\n"
     ]
    }
   ],
   "source": [
    "from math import *\n",
    "\n",
    "# for 4-2. nlgn\n",
    "n = 1\n",
    "while n*log(n, 2) < 10000:\n",
    "    n += 1\n",
    "    if n lv = math.log(n)\n",
    "    \n",
    "\n",
    "\n",
    "print(lv)"
   ]
  },
  {
   "cell_type": "code",
   "execution_count": 30,
   "metadata": {},
   "outputs": [
    {
     "name": "stdout",
     "output_type": "stream",
     "text": [
      "Largest size of n when (n lg n) in a uSecond : 1002\n"
     ]
    }
   ],
   "source": [
    "from math import *\n",
    "\n",
    "# for 4-2. nlgn\n",
    "n = 1\n",
    "while n*log(n, 2) < 10000:\n",
    "    n += 1\n",
    "\n",
    "print(\"Largest size of n when (n lg n) in a uSecond :\", n - 1)"
   ]
  },
  {
   "cell_type": "code",
   "execution_count": 32,
   "metadata": {},
   "outputs": [
    {
     "name": "stdout",
     "output_type": "stream",
     "text": [
      "16\n"
     ]
    }
   ],
   "source": [
    "def power(n, e):\n",
    "    if e == 0:\n",
    "        return 1\n",
    "    elif e == 1:\n",
    "        return n\n",
    "    else:\n",
    "        return (n*power(n, e-1))\n",
    "n = 4\n",
    "p = 2\n",
    "print(power(n, p))"
   ]
  },
  {
   "cell_type": "code",
   "execution_count": 33,
   "metadata": {},
   "outputs": [
    {
     "ename": "TypeError",
     "evalue": "object of type 'int' has no len()",
     "output_type": "error",
     "traceback": [
      "\u001b[1;31m---------------------------------------------------------------------------\u001b[0m",
      "\u001b[1;31mTypeError\u001b[0m                                 Traceback (most recent call last)",
      "Cell \u001b[1;32mIn[33], line 1\u001b[0m\n\u001b[1;32m----> 1\u001b[0m \u001b[39mprint\u001b[39m(\u001b[39mlen\u001b[39;49m(\u001b[39m299\u001b[39;49m))\n",
      "\u001b[1;31mTypeError\u001b[0m: object of type 'int' has no len()"
     ]
    }
   ],
   "source": [
    "print(len(299))"
   ]
  },
  {
   "cell_type": "code",
   "execution_count": 34,
   "metadata": {},
   "outputs": [
    {
     "ename": "SyntaxError",
     "evalue": "expected ':' (733101468.py, line 8)",
     "output_type": "error",
     "traceback": [
      "\u001b[1;36m  Cell \u001b[1;32mIn[34], line 8\u001b[1;36m\u001b[0m\n\u001b[1;33m    if n\u001b[0m\n\u001b[1;37m        ^\u001b[0m\n\u001b[1;31mSyntaxError\u001b[0m\u001b[1;31m:\u001b[0m expected ':'\n"
     ]
    }
   ],
   "source": [
    "from math import *\n",
    "\n",
    "# for 4-2. nlgn\n",
    "n = 1\n",
    "\n",
    "while n*log(n, 2) < 100000:\n",
    "    n += 1\n",
    "    if n\n",
    "\n",
    "print(\"Largest size of n when (n lg n) in a uSecond :\", n - 1)"
   ]
  },
  {
   "cell_type": "code",
   "execution_count": 35,
   "metadata": {},
   "outputs": [
    {
     "name": "stdout",
     "output_type": "stream",
     "text": [
      "1000000.0\n"
     ]
    }
   ],
   "source": [
    "t = pow(10,6)\n",
    "print(t)"
   ]
  },
  {
   "cell_type": "code",
   "execution_count": 36,
   "metadata": {},
   "outputs": [
    {
     "name": "stdout",
     "output_type": "stream",
     "text": [
      "100.0\n"
     ]
    }
   ],
   "source": [
    "from math import *\n",
    "t = pow(10,2)\n",
    "print(t)\n",
    "# for 4-2. nlgn\n",
    "n = 1\n"
   ]
  },
  {
   "cell_type": "code",
   "execution_count": 49,
   "metadata": {},
   "outputs": [
    {
     "name": "stdout",
     "output_type": "stream",
     "text": [
      "1000000.0\n",
      "62746\n"
     ]
    }
   ],
   "source": [
    "from math import *\n",
    "t = pow(10,6)\n",
    "print(t)\n",
    "# for 4-2. nlgn\n",
    "n=1\n",
    "n*log(n, 2)\n",
    "while n*log(n, 2) < t:\n",
    "    n+=1\n",
    "    while n*log(n, 2) < t:\n",
    "        n*=10\n",
    "        while n*log(n, 2) < t:\n",
    "            n*=100\n",
    "while n*log(n, 2) > t:\n",
    "            n-=1\n",
    "print (n)"
   ]
  },
  {
   "cell_type": "code",
   "execution_count": 52,
   "metadata": {},
   "outputs": [
    {
     "name": "stdout",
     "output_type": "stream",
     "text": [
      "60000000.0\n",
      "2801417\n"
     ]
    }
   ],
   "source": [
    "from math import *\n",
    "t = 6*pow(10,7)\n",
    "print(t)\n",
    "# for 4-2. nlgn\n",
    "n=1\n",
    "n*log(n, 2)\n",
    "while n*log(n, 2) < t:\n",
    "    n+=1\n",
    "    while n*log(n, 2) < t:\n",
    "        n*=10\n",
    "        while n*log(n, 2) < t:\n",
    "            n*=100\n",
    "while n*log(n, 2) > t:\n",
    "            n-=1\n",
    "print (n)"
   ]
  },
  {
   "cell_type": "code",
   "execution_count": null,
   "metadata": {},
   "outputs": [],
   "source": [
    "from math import *\n",
    "t = 3.6*pow(10,9)\n",
    "print(t)\n",
    "# for 4-2. nlgn\n",
    "n=1\n",
    "n*log(n, 2)\n",
    "while n*log(n, 2) < t:\n",
    "    n+=1\n",
    "    while n*log(n, 2) < t:\n",
    "        n*=10\n",
    "        while n*log(n, 2) < t:\n",
    "            n*=100\n",
    "            while n*log(n, 2) < t:\n",
    "                n*=1000000\n",
    "while n*log(n, 2) > t:\n",
    "            n-=1000000\n",
    "            while n*log(n, 2) > t:\n",
    "                n-=1000\n",
    "                while n*log(n, 2) > t:\n",
    "                    n-=1\n",
    "print (n)"
   ]
  }
 ],
 "metadata": {
  "kernelspec": {
   "display_name": "Python 3",
   "language": "python",
   "name": "python3"
  },
  "language_info": {
   "codemirror_mode": {
    "name": "ipython",
    "version": 3
   },
   "file_extension": ".py",
   "mimetype": "text/x-python",
   "name": "python",
   "nbconvert_exporter": "python",
   "pygments_lexer": "ipython3",
   "version": "3.10.9 (tags/v3.10.9:1dd9be6, Dec  6 2022, 20:01:21) [MSC v.1934 64 bit (AMD64)]"
  },
  "orig_nbformat": 4,
  "vscode": {
   "interpreter": {
    "hash": "c18c0b266cd426480e5a0b75e8adf62f9dfbf178aa544d4dff2c28d344957dd3"
   }
  }
 },
 "nbformat": 4,
 "nbformat_minor": 2
}
