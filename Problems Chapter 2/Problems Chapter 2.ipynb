{
 "cells": [
  {
   "cell_type": "code",
   "execution_count": 46,
   "metadata": {},
   "outputs": [
    {
     "data": {
      "text/plain": [
       "19"
      ]
     },
     "execution_count": 46,
     "metadata": {},
     "output_type": "execute_result"
    }
   ],
   "source": [
    "def HornerRule(A, x):\n",
    "\tResult = A[0]\n",
    "\t\n",
    "\tfor i in range(1, len(A)):\n",
    "        \n",
    "\t\tResult = Result*x + A[i]\n",
    "\n",
    "\treturn Result\n",
    "\n",
    "A = [2,0,1,1]\n",
    "x = 2\n",
    "HornerRule(A, x)\n",
    "\n"
   ]
  },
  {
   "cell_type": "code",
   "execution_count": 4,
   "metadata": {},
   "outputs": [
    {
     "data": {
      "text/plain": [
       "19"
      ]
     },
     "execution_count": 4,
     "metadata": {},
     "output_type": "execute_result"
    }
   ],
   "source": [
    "#Problem 2-3.b\n",
    "\n",
    "def NaivePoly(A,x):\n",
    "    Result = A[len(A)-1]\n",
    "    Order = 1\n",
    "\n",
    "    for i in reversed(range(len(A)-1)):\n",
    "        Result = Result + A[i]*x**Order\n",
    "        Order +=1\n",
    "    return Result\n",
    "\n",
    "A = [2,0,1,1]\n",
    "x = 2\n",
    "\n",
    "NaivePoly(A,x)\n"
   ]
  },
  {
   "cell_type": "code",
   "execution_count": null,
   "metadata": {},
   "outputs": [],
   "source": []
  }
 ],
 "metadata": {
  "kernelspec": {
   "display_name": "base",
   "language": "python",
   "name": "python3"
  },
  "language_info": {
   "codemirror_mode": {
    "name": "ipython",
    "version": 3
   },
   "file_extension": ".py",
   "mimetype": "text/x-python",
   "name": "python",
   "nbconvert_exporter": "python",
   "pygments_lexer": "ipython3",
   "version": "3.9.13"
  },
  "orig_nbformat": 4
 },
 "nbformat": 4,
 "nbformat_minor": 2
}
