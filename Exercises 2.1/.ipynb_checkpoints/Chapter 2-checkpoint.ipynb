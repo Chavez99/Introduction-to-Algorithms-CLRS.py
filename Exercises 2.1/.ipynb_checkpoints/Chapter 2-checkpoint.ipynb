{
 "cells": [
  {
   "cell_type": "markdown",
   "metadata": {},
   "source": [
    "# Chapter 2 Getting Started"
   ]
  },
  {
   "cell_type": "markdown",
   "metadata": {},
   "source": [
    "## Insertion Sort"
   ]
  },
  {
   "cell_type": "code",
   "execution_count": 1,
   "metadata": {},
   "outputs": [
    {
     "name": "stdout",
     "output_type": "stream",
     "text": [
      "[1, 2, 3, 4, 5, 6]\n"
     ]
    }
   ],
   "source": [
    "#Figure 2-2\n",
    "A = [5, 2, 4, 6, 1, 3]\n",
    "\n",
    "def InsertionSort(A):\n",
    "\n",
    "    if (n := len(A)) <= 1:\n",
    "      return\n",
    "\n",
    "    for i in range(1, n):\n",
    "            key = A[i]\n",
    "            #Insert A[i] into the sorted sequence A[1..j-1].\n",
    "            j = i-1\n",
    "            while j>=0 and key < A[j]:\n",
    "                A[j+1] = A[j]\n",
    "                j -= 1\n",
    "            A[j+1] = key\n",
    "\n",
    "InsertionSort(A)\n",
    "print(A)\n"
   ]
  },
  {
   "cell_type": "code",
   "execution_count": 1,
   "metadata": {},
   "outputs": [
    {
     "name": "stdout",
     "output_type": "stream",
     "text": [
      "[31, 41, 59, 59, 41, 58]\n",
      "[31, 41, 41, 59, 41, 58]\n",
      "[31, 31, 41, 59, 41, 58]\n",
      "[26, 31, 41, 59, 59, 58]\n",
      "[26, 31, 41, 41, 59, 59]\n",
      "[26, 31, 41, 41, 58, 59]\n"
     ]
    }
   ],
   "source": [
    "#Exercise 2.1-1\n",
    "#From left to right\n",
    "A = [31, 41, 59, 26, 41, 58]\n",
    "j=2\n",
    "\n",
    "for j in range(len(A)):\n",
    "    key = A[j]\n",
    "    #Insert A[j] into the sorted sequence A[1..j-1]\n",
    "    i=j-1\n",
    "    while i>=0 and (A[i] > key):\n",
    "        A[i+1] = A[i]\n",
    "        i=i-1\n",
    "        print(A)\n",
    "    A[i+1] = key\n",
    "\n",
    "print(A)"
   ]
  },
  {
   "cell_type": "code",
   "execution_count": 122,
   "metadata": {},
   "outputs": [
    {
     "name": "stdout",
     "output_type": "stream",
     "text": [
      "[31, 41, 26, 26, 41, 58]\n",
      "[31, 41, 26, 41, 41, 58]\n",
      "[31, 41, 26, 41, 58, 58]\n",
      "[31, 26, 26, 41, 58, 59]\n",
      "[26, 26, 41, 41, 58, 59]\n",
      "[26, 31, 41, 41, 58, 59]\n"
     ]
    }
   ],
   "source": [
    "#Exercise 2.1-1 Increasing Insertion sort from right to left\n",
    "\n",
    "A = [31, 41, 59, 26, 41, 58]\n",
    "\n",
    "for j in reversed(range(len(A))):\n",
    "    key = A[j]\n",
    "    i=j+1\n",
    "    while i<len(A) and A[i]<key:\n",
    "        A[i-1] = A[i]\n",
    "        i=i+1\n",
    "        print(A)\n",
    "    A[i-1] = key\n",
    "print(A) "
   ]
  },
  {
   "cell_type": "code",
   "execution_count": 123,
   "metadata": {},
   "outputs": [
    {
     "name": "stdout",
     "output_type": "stream",
     "text": [
      "[5, 2, 2, 6, 1, 3]\n",
      "[5, 4, 2, 2, 1, 3]\n",
      "[5, 4, 4, 2, 1, 3]\n",
      "[5, 5, 4, 2, 1, 3]\n",
      "[6, 5, 4, 2, 1, 1]\n",
      "[6, 5, 4, 2, 2, 1]\n",
      "[6, 5, 4, 3, 2, 1]\n"
     ]
    }
   ],
   "source": [
    "#Exercise 2.1-2 Non-Increasing Insertion Sort\n",
    "\n",
    "A = [5, 2, 4, 6, 1, 3]\n",
    "\n",
    "j=0\n",
    "\n",
    "for j in range(len(A)):\n",
    "    key = A[j]\n",
    "    \n",
    "    i=j-1\n",
    "    while i>=0 and (A[i] < key):\n",
    "        A[i+1] = A[i]\n",
    "        i=i-1\n",
    "        print(A)\n",
    "    A[i+1] = key\n",
    "\n",
    "print(A)"
   ]
  },
  {
   "cell_type": "code",
   "execution_count": 84,
   "metadata": {},
   "outputs": [
    {
     "name": "stdout",
     "output_type": "stream",
     "text": [
      "NIL\n",
      "NIL\n",
      "2\n",
      "NIL\n",
      "NIL\n",
      "NIL\n",
      "NIL\n"
     ]
    }
   ],
   "source": [
    "#Exercise 2.1-3\n",
    "\n",
    "A = [1,2,'v',4,5,6,7]\n",
    "\n",
    "for j in range(len(A)):\n",
    "    if A[j] == 'v':\n",
    "        i=j\n",
    "        print(i)\n",
    "    else:\n",
    "        i='NIL'\n",
    "        print(i)\n",
    "\n"
   ]
  },
  {
   "cell_type": "code",
   "execution_count": 221,
   "metadata": {},
   "outputs": [
    {
     "name": "stdout",
     "output_type": "stream",
     "text": [
      "[0, 0]\n",
      "[0, 1]\n",
      "[1, 0]\n",
      "[0, 1, 1]\n",
      "[1, 0, 0]\n",
      "[1, 0, 1]\n",
      "[1, 1, 0]\n",
      "[0, 1, 1, 1]\n",
      "[1, 0, 0, 0]\n",
      "[0, 1, 0, 0, 1]\n",
      "[0, 1, 0, 1, 0]\n"
     ]
    }
   ],
   "source": [
    "#Exercise 2.1-4\n",
    "\n",
    "def AddBinary(A, B):\n",
    "\n",
    "    carry = 0\n",
    "    n = max(len(A), len(B))\n",
    "    C = [0 for i in range(n+1)]\n",
    "    \n",
    "    for i in reversed(range(n)):\n",
    "        a = A[i] if i < len(A) else 0\n",
    "        b = B[i] if i < len(B) else 0\n",
    "        C[i+1] = (a + b + carry) % 2\n",
    "        carry = (a + b + carry) // 2\n",
    "    C[0] = carry\n",
    "    \n",
    "    return C\n",
    "\n",
    "#Test 0-10\n",
    "\n",
    "print(AddBinary([0], [0]))\n",
    "print(AddBinary([0], [1]))\n",
    "print(AddBinary([1], [1]))\n",
    "print(AddBinary([1,0], [0,1]))\n",
    "print(AddBinary([1,0], [1,0]))\n",
    "print(AddBinary([1,1], [1,0]))\n",
    "print(AddBinary([1,1], [1,1]))\n",
    "print(AddBinary([0,1,0], [1,0,1]))\n",
    "print(AddBinary([0,0,1], [1,1,1]))\n",
    "print(AddBinary([1,0,0,0], [0,0,0,1]))\n",
    "print(AddBinary([1,0,0,0], [0,0,1,0]))\n"
   ]
  }
 ],
 "metadata": {
  "kernelspec": {
   "display_name": "Python 3 (ipykernel)",
   "language": "python",
   "name": "python3"
  },
  "language_info": {
   "codemirror_mode": {
    "name": "ipython",
    "version": 3
   },
   "file_extension": ".py",
   "mimetype": "text/x-python",
   "name": "python",
   "nbconvert_exporter": "python",
   "pygments_lexer": "ipython3",
   "version": "3.9.13"
  },
  "vscode": {
   "interpreter": {
    "hash": "f8a3f710a2df2d43d23c449609d2f838494775bab7f0b39454387f5fe9510f71"
   }
  }
 },
 "nbformat": 4,
 "nbformat_minor": 4
}
